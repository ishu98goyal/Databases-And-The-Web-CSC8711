{
 "cells": [
  {
   "cell_type": "code",
   "execution_count": 6,
   "id": "2ed4dd38",
   "metadata": {},
   "outputs": [],
   "source": [
    "import mysql.connector\n"
   ]
  },
  {
   "cell_type": "code",
   "execution_count": 7,
   "id": "1ec309f7",
   "metadata": {},
   "outputs": [
    {
     "name": "stdout",
     "output_type": "stream",
     "text": [
      "<mysql.connector.connection.MySQLConnection object at 0x7ff1784a43d0>\n"
     ]
    }
   ],
   "source": [
    "mydb = mysql.connector.connect(\n",
    "    host = \"localhost\",\n",
    "    user = \"root\",\n",
    "    password = \"rishivbps\"\n",
    ")\n",
    " \n",
    "# Printing the connection object\n",
    "print(mydb)"
   ]
  },
  {
   "cell_type": "code",
   "execution_count": 8,
   "id": "6557df8e",
   "metadata": {},
   "outputs": [],
   "source": [
    "cursor = mydb.cursor()\n",
    " \n",
    "# Show database\n",
    "cursor.execute(\"USE p1\")"
   ]
  },
  {
   "cell_type": "code",
   "execution_count": 10,
   "id": "386ccc2c",
   "metadata": {},
   "outputs": [],
   "source": [
    "cursor.execute(\"show tables\")"
   ]
  },
  {
   "cell_type": "code",
   "execution_count": 11,
   "id": "7ab01a52",
   "metadata": {},
   "outputs": [
    {
     "name": "stdout",
     "output_type": "stream",
     "text": [
      "('autoFactTable',)\n",
      "('collegeFactTable',)\n",
      "('domain',)\n",
      "('property',)\n",
      "('propertyDetail',)\n",
      "('regularColumn',)\n",
      "('user',)\n",
      "('userBookmark',)\n"
     ]
    }
   ],
   "source": [
    "for x in cursor:\n",
    "  print(x)"
   ]
  },
  {
   "cell_type": "code",
   "execution_count": null,
   "id": "1712e37d",
   "metadata": {},
   "outputs": [],
   "source": []
  },
  {
   "cell_type": "code",
   "execution_count": null,
   "id": "d39fda0e",
   "metadata": {},
   "outputs": [],
   "source": []
  },
  {
   "cell_type": "code",
   "execution_count": null,
   "id": "908f7c5b",
   "metadata": {},
   "outputs": [],
   "source": [
    "import sys\n",
    "import graphene\n",
    "import mysql.connector as mysql\n",
    "\n",
    "class Building(graphene.ObjectType):\n",
    "    bcode = graphene.String()\n",
    "    bname = graphene.String()\n",
    "\n",
    "class Media(graphene.ObjectType):\n",
    "    mcode = graphene.String()\n",
    "    description = graphene.String()\n",
    "\n",
    "class Room(graphene.ObjectType):\n",
    "    bldg = graphene.String()\n",
    "    rnumber = graphene.String()\n",
    "    cap = graphene.Int()\n",
    "    layout = graphene.String()\n",
    "    rtype = graphene.String()\n",
    "    dept = graphene.String()\n",
    "    media = graphene.List(Media)\n",
    "\n",
    "class Queries(graphene.ObjectType):\n",
    "    buildings = graphene.List(Building)\n",
    "    media = graphene.List(Media)\n",
    "    rooms = graphene.List(Room,building=graphene.String())\n",
    "    room = graphene.Field(Room,building=graphene.String(),\n",
    "                               rno=graphene.String())\n",
    "    roommedia = graphene.List(Media,building=graphene.String(),\n",
    "                                    rno=graphene.String())\n",
    "    roomscap = graphene.List(Room,cap_lower=graphene.Int(),\n",
    "                                  cap_upper=graphene.Int())"
   ]
  }
 ],
 "metadata": {
  "kernelspec": {
   "display_name": "Python 3",
   "language": "python",
   "name": "python3"
  },
  "language_info": {
   "codemirror_mode": {
    "name": "ipython",
    "version": 3
   },
   "file_extension": ".py",
   "mimetype": "text/x-python",
   "name": "python",
   "nbconvert_exporter": "python",
   "pygments_lexer": "ipython3",
   "version": "3.8.8"
  }
 },
 "nbformat": 4,
 "nbformat_minor": 5
}

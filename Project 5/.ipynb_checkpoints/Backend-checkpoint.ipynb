{
 "cells": [
  {
   "cell_type": "code",
   "execution_count": 1,
   "id": "6b463b19",
   "metadata": {},
   "outputs": [],
   "source": [
    "import rdflib\n",
    "from flask import abort\n",
    "from flask import make_response\n",
    "from flask import request\n",
    "from flask import Flask, jsonify\n",
    "from flask_cors import CORS"
   ]
  },
  {
   "cell_type": "code",
   "execution_count": null,
   "id": "10130ca6",
   "metadata": {},
   "outputs": [],
   "source": []
  },
  {
   "cell_type": "code",
   "execution_count": 2,
   "id": "45828a20",
   "metadata": {},
   "outputs": [
    {
     "data": {
      "text/plain": [
       "<Graph identifier=N159bba7a051340698cc415c9aa139b69 (<class 'rdflib.graph.Graph'>)>"
      ]
     },
     "execution_count": 2,
     "metadata": {},
     "output_type": "execute_result"
    }
   ],
   "source": [
    "from flask import Flask, jsonify\n",
    "from rdflib import Graph, Namespace, URIRef\n",
    "from rdflib.plugins.sparql import prepareQuery\n",
    "\n",
    "app = Flask(__name__)\n",
    "\n",
    "# Load the Nobel ontology\n",
    "g = Graph()\n",
    "g.parse(\"data/nobel.owl\")\n",
    "g.parse(\"data/nobeldata.owl\")\n",
    "\n"
   ]
  },
  {
   "cell_type": "code",
   "execution_count": null,
   "id": "6bbd0bda",
   "metadata": {},
   "outputs": [],
   "source": []
  },
  {
   "cell_type": "code",
   "execution_count": null,
   "id": "58810212",
   "metadata": {},
   "outputs": [],
   "source": []
  },
  {
   "cell_type": "code",
   "execution_count": null,
   "id": "f35cf4fb",
   "metadata": {},
   "outputs": [],
   "source": []
  },
  {
   "cell_type": "code",
   "execution_count": null,
   "id": "746db369",
   "metadata": {},
   "outputs": [],
   "source": []
  },
  {
   "cell_type": "code",
   "execution_count": null,
   "id": "bf007e08",
   "metadata": {},
   "outputs": [],
   "source": []
  },
  {
   "cell_type": "code",
   "execution_count": null,
   "id": "5f6eb4e9",
   "metadata": {},
   "outputs": [],
   "source": [
    "from rdflib import Graph, Namespace\n",
    "\n",
    "# Define the namespaces used in the ontology\n",
    "nobel = Namespace('http://swat.cse.lehigh.edu/resources/onto/nobel.owl#')\n",
    "rdf = Namespace('http://www.w3.org/1999/02/22-rdf-syntax-ns#')\n",
    "rdfs = Namespace('http://www.w3.org/2000/01/rdf-schema#')\n",
    "owl = Namespace('http://www.w3.org/2002/07/owl#')\n",
    "xml = Namespace('http://www.w3.org/XML/1998/namespace')\n",
    "\n",
    "# Load the Nobel ontology from the OWL file\n",
    "g = Graph()\n",
    "g.parse('data/nobel.owl', format='xml')\n",
    "g.parse(\"data/nobeldata.owl\", format='xml')\n",
    "\n",
    "\n",
    "# Query the ontology to print the information contained in it\n",
    "for s, p, o in g:\n",
    "    if isinstance(s, rdflib.term.URIRef) and isinstance(p, rdflib.term.URIRef) and isinstance(o, rdflib.term.URIRef):\n",
    "        print(f\"{s.n3()} {p.n3()} {o.n3()}\")\n",
    "    elif isinstance(s, rdflib.term.URIRef) and isinstance(p, rdflib.term.URIRef) and isinstance(o, rdflib.term.Literal):\n",
    "        print(f\"{s.n3()} {p.n3()} '{o.value}'^^{o.datatype.n3()}\")\n"
   ]
  },
  {
   "cell_type": "code",
   "execution_count": null,
   "id": "f58f2455",
   "metadata": {},
   "outputs": [],
   "source": [
    "from rdflib import Graph, Namespace, RDF, RDFS\n",
    "\n",
    "# Load the ontology file\n",
    "g = Graph()\n",
    "g.parse('data/nobeldata.owl')\n",
    "\n",
    "# Print the triples\n",
    "for subj, pred, obj in g:\n",
    "    print(subj, pred, obj)\n"
   ]
  },
  {
   "cell_type": "code",
   "execution_count": null,
   "id": "30a60d0a",
   "metadata": {},
   "outputs": [],
   "source": [
    "\n",
    "from rdflib import Graph, Namespace, RDF, RDFS\n",
    "\n",
    "# create a graph and parse the nobel.owl ontology\n",
    "g = Graph()\n",
    "g.parse(\"data/nobeldata.owl\")\n",
    "\n",
    "# define the relevant namespaces\n",
    "nobel = Namespace(\"http://swat.cse.lehigh.edu/resources/onto/nobel.owl#\")\n",
    "rdf = Namespace(\"http://www.w3.org/1999/02/22-rdf-syntax-ns#\")\n",
    "rdfs = Namespace(\"http://www.w3.org/2000/01/rdf-schema#\")\n",
    "\n",
    "# create a set to hold the names of all nations\n",
    "nations = set()\n",
    "\n",
    "# iterate over all instances of the PersonWinner class and add their nationality to the set\n",
    "for person in g.subjects(RDF.type, nobel.PersonWinner):\n",
    "    nation = g.value(person, nobel.nationality, None)\n",
    "    if nation is not None:\n",
    "        nations.add(nation)\n",
    "\n",
    "# sort the set and print the names of all nations\n",
    "for nation in sorted(nations):\n",
    "    print(nation)\n"
   ]
  },
  {
   "cell_type": "code",
   "execution_count": 8,
   "id": "f854b967",
   "metadata": {},
   "outputs": [
    {
     "name": "stdout",
     "output_type": "stream",
     "text": [
      "{'ele': ['http://dbpedia.org/resource/(no_nationality_info)', 'http://dbpedia.org/resource/Argentina', 'http://dbpedia.org/resource/Australia', 'http://dbpedia.org/resource/Austria', 'http://dbpedia.org/resource/Bangladesh', 'http://dbpedia.org/resource/Belgium', 'http://dbpedia.org/resource/Burma', 'http://dbpedia.org/resource/Canada', 'http://dbpedia.org/resource/Chile', 'http://dbpedia.org/resource/China', 'http://dbpedia.org/resource/Colombia', 'http://dbpedia.org/resource/Costa_Rica', 'http://dbpedia.org/resource/Czechoslovakia', 'http://dbpedia.org/resource/Denmark', 'http://dbpedia.org/resource/East_Timor', 'http://dbpedia.org/resource/Egypt', 'http://dbpedia.org/resource/Federal_Republic_of_Germany', 'http://dbpedia.org/resource/Finland', 'http://dbpedia.org/resource/France', 'http://dbpedia.org/resource/Germany', 'http://dbpedia.org/resource/Ghana', 'http://dbpedia.org/resource/Greece', 'http://dbpedia.org/resource/Guatemala', 'http://dbpedia.org/resource/Hungary', 'http://dbpedia.org/resource/Iceland', 'http://dbpedia.org/resource/India', 'http://dbpedia.org/resource/Iran', 'http://dbpedia.org/resource/Ireland', 'http://dbpedia.org/resource/Israel', 'http://dbpedia.org/resource/Italy', 'http://dbpedia.org/resource/Japan', 'http://dbpedia.org/resource/Kenya', 'http://dbpedia.org/resource/Mexico', 'http://dbpedia.org/resource/New_Zealand', 'http://dbpedia.org/resource/Nigeria', 'http://dbpedia.org/resource/North_Vietnam', 'http://dbpedia.org/resource/Norway', 'http://dbpedia.org/resource/Pakistan', 'http://dbpedia.org/resource/Palestine', 'http://dbpedia.org/resource/Poland', 'http://dbpedia.org/resource/Portugal', 'http://dbpedia.org/resource/Russia', 'http://dbpedia.org/resource/Saint_Lucia', 'http://dbpedia.org/resource/South_Africa', 'http://dbpedia.org/resource/South_Korea', 'http://dbpedia.org/resource/Soviet_Union', 'http://dbpedia.org/resource/Spain', 'http://dbpedia.org/resource/Sweden', 'http://dbpedia.org/resource/Switzerland', 'http://dbpedia.org/resource/Tibet', 'http://dbpedia.org/resource/Turkey', 'http://dbpedia.org/resource/Union_of_South_Africa', 'http://dbpedia.org/resource/United_Kingdom', 'http://dbpedia.org/resource/United_States', 'http://dbpedia.org/resource/Yugoslavia', 'http://dbpedia.org/resource/the_Netherlands']}\n"
     ]
    }
   ],
   "source": [
    "from flask import Flask, jsonify\n",
    "from rdflib import Graph, Namespace, RDF, RDFS\n",
    "\n",
    "app = Flask(__name__)\n",
    "\n",
    "# create a graph and parse the nobel.owl ontology\n",
    "g = Graph()\n",
    "g.parse(\"data/nobel.owl\")\n",
    "g.parse(\"data/nobeldata.owl\")\n",
    "\n",
    "# define the relevant namespaces\n",
    "nobel = Namespace(\"http://swat.cse.lehigh.edu/resources/onto/nobel.owl#\")\n",
    "rdf = Namespace(\"http://www.w3.org/1999/02/22-rdf-syntax-ns#\")\n",
    "rdfs = Namespace(\"http://www.w3.org/2000/01/rdf-schema#\")\n",
    "\n",
    "# create a set to hold the names of all nations\n",
    "nations = set()\n",
    "\n",
    "# SPARQL query to retrieve the nationality of all PersonWinner instances\n",
    "query = \"\"\"\n",
    "    PREFIX nobel: <http://swat.cse.lehigh.edu/resources/onto/nobel.owl#>\n",
    "    SELECT ?nation\n",
    "    WHERE {\n",
    "        ?person rdf:type nobel:PersonWinner .\n",
    "        ?person nobel:nationality ?nation .\n",
    "    }\n",
    "\"\"\"\n",
    "\n",
    "# execute the query and add the results to the nations set\n",
    "for row in g.query(query):\n",
    "    nations.add(row['nation'])\n",
    "    \n",
    "# sort the set and return the names of all nations as a JSON response\n",
    "res = []\n",
    "for row in g.query(query):\n",
    "    res.append(row[0][0:])\n",
    "\n",
    "res=list(set(res))\n",
    "res.sort()\n",
    "print({'ele':res})\n"
   ]
  },
  {
   "cell_type": "code",
   "execution_count": null,
   "id": "34e0c04a",
   "metadata": {},
   "outputs": [],
   "source": [
    "a"
   ]
  },
  {
   "cell_type": "code",
   "execution_count": 3,
   "id": "1abed4ac",
   "metadata": {},
   "outputs": [
    {
     "name": "stdout",
     "output_type": "stream",
     "text": [
      " * Serving Flask app '__main__'\n",
      " * Debug mode: on\n"
     ]
    },
    {
     "name": "stderr",
     "output_type": "stream",
     "text": [
      "WARNING: This is a development server. Do not use it in a production deployment. Use a production WSGI server instead.\n",
      " * Running on http://127.0.0.1:5000\n",
      "Press CTRL+C to quit\n",
      " * Restarting with watchdog (fsevents)\n"
     ]
    },
    {
     "ename": "SystemExit",
     "evalue": "1",
     "output_type": "error",
     "traceback": [
      "An exception has occurred, use %tb to see the full traceback.\n",
      "\u001b[0;31mSystemExit\u001b[0m\u001b[0;31m:\u001b[0m 1\n"
     ]
    },
    {
     "name": "stderr",
     "output_type": "stream",
     "text": [
      "/opt/anaconda3/lib/python3.8/site-packages/IPython/core/interactiveshell.py:3445: UserWarning: To exit: use 'exit', 'quit', or Ctrl-D.\n",
      "  warn(\"To exit: use 'exit', 'quit', or Ctrl-D.\", stacklevel=1)\n"
     ]
    }
   ],
   "source": [
    "@app.route('/nations',methods=['GET'])\n",
    "def get_nations():\n",
    "    return jsonify({'ele':\"hi\"})\n",
    "\n",
    "if __name__ == '__main__':\n",
    "    app.run(debug=True)\n"
   ]
  },
  {
   "cell_type": "code",
   "execution_count": null,
   "id": "7a5220e5",
   "metadata": {},
   "outputs": [],
   "source": [
    "#1st Query\n",
    "'''PREFIX nobel: <http://swat.cse.lehigh.edu/resources/onto/nobel.owl#>\n",
    "    PREFIX rdf: <http://www.w3.org/1999/02/22-rdf-syntax-ns#>\n",
    "SELECT ?nation\n",
    "    WHERE {\n",
    "        ?person rdf:type nobel:PersonWinner .\n",
    "        ?person nobel:nationality ?nation .\n",
    "    }'''\n",
    "\n",
    "\n",
    "#2nd Query\n",
    "'''PREFIX rdf: <http://www.w3.org/1999/02/22-rdf-syntax-ns#>\n",
    "PREFIX owl: <http://www.w3.org/2002/07/owl#>\n",
    "PREFIX rdfs: <http://www.w3.org/2000/01/rdf-schema#>\n",
    "PREFIX base: <http://swat.cse.lehigh.edu/resources/onto/nobel.owl#>\n",
    "\n",
    "SELECT DISTINCT ?category_name\n",
    "WHERE {\n",
    "  ?category a owl:Class .\n",
    "  FILTER(STRSTARTS(STR(?category), STR(base:))) .\n",
    "  FILTER(!STRSTARTS(STR(?category), STR(base:NobelWinner))) .\n",
    "  FILTER(!STRSTARTS(STR(?category), STR(base:Organization))) .\n",
    "  FILTER(!STRSTARTS(STR(?category), STR(base:Prize))) .\n",
    "  FILTER(!STRSTARTS(STR(?category), STR(base:OrganizationWinner))) .\n",
    "  FILTER(!STRSTARTS(STR(?category), STR(base:PersonWinner))) .\n",
    "  ?category rdfs:subClassOf base:Prize .\n",
    "  BIND(REPLACE(STR(?category), STR(base:), \"\") AS ?category_name)\n",
    "} \n",
    "ORDER BY ?category_name\n",
    "'''\n",
    "\n",
    "#3rd Query\n",
    "'''PREFIX rdf: <http://www.w3.org/1999/02/22-rdf-syntax-ns#>\n",
    "PREFIX nobel: <http://swat.cse.lehigh.edu/resources/onto/nobel.owl#>\n",
    "\n",
    "SELECT DISTINCT ?year\n",
    "WHERE {\n",
    "  ?prize nobel:yearWon ?year .\n",
    "} \n",
    "ORDER BY ?year\n",
    "'''"
   ]
  }
 ],
 "metadata": {
  "kernelspec": {
   "display_name": "Python 3",
   "language": "python",
   "name": "python3"
  },
  "language_info": {
   "codemirror_mode": {
    "name": "ipython",
    "version": 3
   },
   "file_extension": ".py",
   "mimetype": "text/x-python",
   "name": "python",
   "nbconvert_exporter": "python",
   "pygments_lexer": "ipython3",
   "version": "3.8.8"
  }
 },
 "nbformat": 4,
 "nbformat_minor": 5
}
